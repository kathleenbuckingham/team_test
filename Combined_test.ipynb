{
 "cells": [
  {
   "cell_type": "code",
   "execution_count": 31,
   "metadata": {},
   "outputs": [],
   "source": [
    "import pandas as pd\n",
    "import numpy as np\n",
    "import json\n",
    "import seaborn as sns\n",
    "from matplotlib import pyplot as plt"
   ]
  },
  {
   "cell_type": "code",
   "execution_count": 32,
   "metadata": {},
   "outputs": [],
   "source": [
    "rat_sightings = pd.read_csv(\"rat_sightings/rat_sightings.csv\")"
   ]
  },
  {
   "cell_type": "code",
   "execution_count": 33,
   "metadata": {},
   "outputs": [],
   "source": [
    "inspections = pd.read_csv(\"rodent_inspections/rodent-inspection.csv\")"
   ]
  },
  {
   "cell_type": "code",
   "execution_count": 34,
   "metadata": {},
   "outputs": [],
   "source": [
    "sightings_unique = rat_sightings[\"Borough\"].unique()\n"
   ]
  },
  {
   "cell_type": "code",
   "execution_count": 35,
   "metadata": {},
   "outputs": [
    {
     "data": {
      "text/plain": [
       "'STATEN ISLAND'"
      ]
     },
     "execution_count": 35,
     "metadata": {},
     "output_type": "execute_result"
    }
   ],
   "source": [
    "sightings_unique[1]"
   ]
  },
  {
   "cell_type": "code",
   "execution_count": 36,
   "metadata": {},
   "outputs": [
    {
     "name": "stdout",
     "output_type": "stream",
     "text": [
      "MANHATTAN\n",
      "Manhattan\n",
      "STATEN ISLAND\n",
      "Staten island\n",
      "BROOKLYN\n",
      "Brooklyn\n",
      "BRONX\n",
      "Bronx\n",
      "QUEENS\n",
      "Queens\n",
      "Unspecified\n",
      "Unspecified\n"
     ]
    }
   ],
   "source": [
    "rename = {}\n",
    "\n",
    "for i in sightings_unique: \n",
    "    print (i)\n",
    "    print (i.lower().capitalize())\n",
    "    rename[i] = i.lower().capitalize()\n",
    "rename [\"Staten island\"] = \"Staten Island\""
   ]
  },
  {
   "cell_type": "code",
   "execution_count": 37,
   "metadata": {},
   "outputs": [],
   "source": [
    "new_df = rat_sightings[[\"Borough\",\"Unique Key\"]].replace(to_replace = rename)\n",
    "new_df[\"Borough\"]\n",
    "del (rat_sightings)"
   ]
  },
  {
   "cell_type": "code",
   "execution_count": 38,
   "metadata": {},
   "outputs": [
    {
     "data": {
      "text/html": [
       "<div>\n",
       "<style scoped>\n",
       "    .dataframe tbody tr th:only-of-type {\n",
       "        vertical-align: middle;\n",
       "    }\n",
       "\n",
       "    .dataframe tbody tr th {\n",
       "        vertical-align: top;\n",
       "    }\n",
       "\n",
       "    .dataframe thead th {\n",
       "        text-align: right;\n",
       "    }\n",
       "</style>\n",
       "<table border=\"1\" class=\"dataframe\">\n",
       "  <thead>\n",
       "    <tr style=\"text-align: right;\">\n",
       "      <th></th>\n",
       "      <th>INSPECTION_TYPE</th>\n",
       "      <th>JOB_TICKET_OR_WORK_ORDER_ID</th>\n",
       "      <th>JOB_ID</th>\n",
       "      <th>JOB_PROGRESS</th>\n",
       "      <th>BBL</th>\n",
       "      <th>BORO_CODE</th>\n",
       "      <th>BLOCK</th>\n",
       "      <th>LOT</th>\n",
       "      <th>HOUSE_NUMBER</th>\n",
       "      <th>STREET_NAME</th>\n",
       "      <th>ZIP_CODE</th>\n",
       "      <th>X_COORD</th>\n",
       "      <th>Y_COORD</th>\n",
       "      <th>LATITUDE</th>\n",
       "      <th>LONGITUDE</th>\n",
       "      <th>BOROUGH</th>\n",
       "      <th>INSPECTION_DATE</th>\n",
       "      <th>RESULT</th>\n",
       "      <th>APPROVED_DATE</th>\n",
       "      <th>LOCATION</th>\n",
       "    </tr>\n",
       "  </thead>\n",
       "  <tbody>\n",
       "    <tr>\n",
       "      <th>0</th>\n",
       "      <td>BAIT</td>\n",
       "      <td>37453</td>\n",
       "      <td>PO199209</td>\n",
       "      <td>2</td>\n",
       "      <td>1011290002</td>\n",
       "      <td>1</td>\n",
       "      <td>1129</td>\n",
       "      <td>2</td>\n",
       "      <td>57</td>\n",
       "      <td>WEST 76 STREET</td>\n",
       "      <td>10023.0</td>\n",
       "      <td>991001.0</td>\n",
       "      <td>223260.0</td>\n",
       "      <td>40.779464</td>\n",
       "      <td>-73.975624</td>\n",
       "      <td>Manhattan</td>\n",
       "      <td>2010-11-18T12:50:18</td>\n",
       "      <td>Bait applied</td>\n",
       "      <td>2010-11-19T08:43:21</td>\n",
       "      <td>{'latitude': '40.779464247848', 'longitude': '...</td>\n",
       "    </tr>\n",
       "    <tr>\n",
       "      <th>1</th>\n",
       "      <td>BAIT</td>\n",
       "      <td>38432</td>\n",
       "      <td>PO199209</td>\n",
       "      <td>3</td>\n",
       "      <td>1011290002</td>\n",
       "      <td>1</td>\n",
       "      <td>1129</td>\n",
       "      <td>2</td>\n",
       "      <td>57</td>\n",
       "      <td>WEST 76 STREET</td>\n",
       "      <td>10023.0</td>\n",
       "      <td>991001.0</td>\n",
       "      <td>223260.0</td>\n",
       "      <td>40.779464</td>\n",
       "      <td>-73.975624</td>\n",
       "      <td>Manhattan</td>\n",
       "      <td>2010-12-02T10:44:16</td>\n",
       "      <td>Bait applied</td>\n",
       "      <td>2010-12-07T09:34:01</td>\n",
       "      <td>{'latitude': '40.779464247848', 'longitude': '...</td>\n",
       "    </tr>\n",
       "    <tr>\n",
       "      <th>2</th>\n",
       "      <td>BAIT</td>\n",
       "      <td>40616</td>\n",
       "      <td>PO174802</td>\n",
       "      <td>2</td>\n",
       "      <td>2028470001</td>\n",
       "      <td>2</td>\n",
       "      <td>2847</td>\n",
       "      <td>1</td>\n",
       "      <td>1</td>\n",
       "      <td>EAST MT EDEN AVENUE</td>\n",
       "      <td>10452.0</td>\n",
       "      <td>1007877.0</td>\n",
       "      <td>246889.0</td>\n",
       "      <td>40.844291</td>\n",
       "      <td>-73.914605</td>\n",
       "      <td>Bronx</td>\n",
       "      <td>2010-12-20T11:56:13</td>\n",
       "      <td>Bait applied</td>\n",
       "      <td>2010-12-28T15:16:07</td>\n",
       "      <td>{'latitude': '40.844290674523', 'longitude': '...</td>\n",
       "    </tr>\n",
       "    <tr>\n",
       "      <th>3</th>\n",
       "      <td>BAIT</td>\n",
       "      <td>41357</td>\n",
       "      <td>PO199209</td>\n",
       "      <td>4</td>\n",
       "      <td>1011290002</td>\n",
       "      <td>1</td>\n",
       "      <td>1129</td>\n",
       "      <td>2</td>\n",
       "      <td>57</td>\n",
       "      <td>WEST 76 STREET</td>\n",
       "      <td>10023.0</td>\n",
       "      <td>991001.0</td>\n",
       "      <td>223260.0</td>\n",
       "      <td>40.779464</td>\n",
       "      <td>-73.975624</td>\n",
       "      <td>Manhattan</td>\n",
       "      <td>2011-01-04T11:40:38</td>\n",
       "      <td>Bait applied</td>\n",
       "      <td>2011-01-06T15:04:17</td>\n",
       "      <td>{'latitude': '40.779464247848', 'longitude': '...</td>\n",
       "    </tr>\n",
       "    <tr>\n",
       "      <th>4</th>\n",
       "      <td>BAIT</td>\n",
       "      <td>41838</td>\n",
       "      <td>PO174802</td>\n",
       "      <td>3</td>\n",
       "      <td>2028470001</td>\n",
       "      <td>2</td>\n",
       "      <td>2847</td>\n",
       "      <td>1</td>\n",
       "      <td>1</td>\n",
       "      <td>EAST MT EDEN AVENUE</td>\n",
       "      <td>10452.0</td>\n",
       "      <td>1007877.0</td>\n",
       "      <td>246889.0</td>\n",
       "      <td>40.844291</td>\n",
       "      <td>-73.914605</td>\n",
       "      <td>Bronx</td>\n",
       "      <td>2011-01-10T10:08:18</td>\n",
       "      <td>Bait applied</td>\n",
       "      <td>2011-01-10T14:49:51</td>\n",
       "      <td>{'latitude': '40.844290674523', 'longitude': '...</td>\n",
       "    </tr>\n",
       "  </tbody>\n",
       "</table>\n",
       "</div>"
      ],
      "text/plain": [
       "  INSPECTION_TYPE  JOB_TICKET_OR_WORK_ORDER_ID    JOB_ID  JOB_PROGRESS  \\\n",
       "0            BAIT                        37453  PO199209             2   \n",
       "1            BAIT                        38432  PO199209             3   \n",
       "2            BAIT                        40616  PO174802             2   \n",
       "3            BAIT                        41357  PO199209             4   \n",
       "4            BAIT                        41838  PO174802             3   \n",
       "\n",
       "          BBL  BORO_CODE  BLOCK  LOT HOUSE_NUMBER           STREET_NAME  \\\n",
       "0  1011290002          1   1129    2           57        WEST 76 STREET   \n",
       "1  1011290002          1   1129    2           57        WEST 76 STREET   \n",
       "2  2028470001          2   2847    1            1   EAST MT EDEN AVENUE   \n",
       "3  1011290002          1   1129    2           57        WEST 76 STREET   \n",
       "4  2028470001          2   2847    1            1   EAST MT EDEN AVENUE   \n",
       "\n",
       "   ZIP_CODE    X_COORD   Y_COORD   LATITUDE  LONGITUDE    BOROUGH  \\\n",
       "0   10023.0   991001.0  223260.0  40.779464 -73.975624  Manhattan   \n",
       "1   10023.0   991001.0  223260.0  40.779464 -73.975624  Manhattan   \n",
       "2   10452.0  1007877.0  246889.0  40.844291 -73.914605      Bronx   \n",
       "3   10023.0   991001.0  223260.0  40.779464 -73.975624  Manhattan   \n",
       "4   10452.0  1007877.0  246889.0  40.844291 -73.914605      Bronx   \n",
       "\n",
       "       INSPECTION_DATE        RESULT        APPROVED_DATE  \\\n",
       "0  2010-11-18T12:50:18  Bait applied  2010-11-19T08:43:21   \n",
       "1  2010-12-02T10:44:16  Bait applied  2010-12-07T09:34:01   \n",
       "2  2010-12-20T11:56:13  Bait applied  2010-12-28T15:16:07   \n",
       "3  2011-01-04T11:40:38  Bait applied  2011-01-06T15:04:17   \n",
       "4  2011-01-10T10:08:18  Bait applied  2011-01-10T14:49:51   \n",
       "\n",
       "                                            LOCATION  \n",
       "0  {'latitude': '40.779464247848', 'longitude': '...  \n",
       "1  {'latitude': '40.779464247848', 'longitude': '...  \n",
       "2  {'latitude': '40.844290674523', 'longitude': '...  \n",
       "3  {'latitude': '40.779464247848', 'longitude': '...  \n",
       "4  {'latitude': '40.844290674523', 'longitude': '...  "
      ]
     },
     "execution_count": 38,
     "metadata": {},
     "output_type": "execute_result"
    }
   ],
   "source": [
    "inspections.head()"
   ]
  },
  {
   "cell_type": "code",
   "execution_count": 39,
   "metadata": {},
   "outputs": [
    {
     "data": {
      "text/html": [
       "<div>\n",
       "<style scoped>\n",
       "    .dataframe tbody tr th:only-of-type {\n",
       "        vertical-align: middle;\n",
       "    }\n",
       "\n",
       "    .dataframe tbody tr th {\n",
       "        vertical-align: top;\n",
       "    }\n",
       "\n",
       "    .dataframe thead th {\n",
       "        text-align: right;\n",
       "    }\n",
       "</style>\n",
       "<table border=\"1\" class=\"dataframe\">\n",
       "  <thead>\n",
       "    <tr style=\"text-align: right;\">\n",
       "      <th></th>\n",
       "      <th>INSPECTION_TYPE</th>\n",
       "      <th>JOB_TICKET_OR_WORK_ORDER_ID</th>\n",
       "      <th>JOB_ID</th>\n",
       "      <th>JOB_PROGRESS</th>\n",
       "      <th>BBL</th>\n",
       "      <th>BORO_CODE</th>\n",
       "      <th>BLOCK</th>\n",
       "      <th>LOT</th>\n",
       "      <th>HOUSE_NUMBER</th>\n",
       "      <th>STREET_NAME</th>\n",
       "      <th>ZIP_CODE</th>\n",
       "      <th>X_COORD</th>\n",
       "      <th>Y_COORD</th>\n",
       "      <th>LATITUDE</th>\n",
       "      <th>LONGITUDE</th>\n",
       "      <th>Borough</th>\n",
       "      <th>INSPECTION_DATE</th>\n",
       "      <th>RESULT</th>\n",
       "      <th>APPROVED_DATE</th>\n",
       "      <th>LOCATION</th>\n",
       "    </tr>\n",
       "  </thead>\n",
       "  <tbody>\n",
       "    <tr>\n",
       "      <th>0</th>\n",
       "      <td>BAIT</td>\n",
       "      <td>37453</td>\n",
       "      <td>PO199209</td>\n",
       "      <td>2</td>\n",
       "      <td>1011290002</td>\n",
       "      <td>1</td>\n",
       "      <td>1129</td>\n",
       "      <td>2</td>\n",
       "      <td>57</td>\n",
       "      <td>WEST 76 STREET</td>\n",
       "      <td>10023.0</td>\n",
       "      <td>991001.0</td>\n",
       "      <td>223260.0</td>\n",
       "      <td>40.779464</td>\n",
       "      <td>-73.975624</td>\n",
       "      <td>Manhattan</td>\n",
       "      <td>2010-11-18T12:50:18</td>\n",
       "      <td>Bait applied</td>\n",
       "      <td>2010-11-19T08:43:21</td>\n",
       "      <td>{'latitude': '40.779464247848', 'longitude': '...</td>\n",
       "    </tr>\n",
       "    <tr>\n",
       "      <th>1</th>\n",
       "      <td>BAIT</td>\n",
       "      <td>38432</td>\n",
       "      <td>PO199209</td>\n",
       "      <td>3</td>\n",
       "      <td>1011290002</td>\n",
       "      <td>1</td>\n",
       "      <td>1129</td>\n",
       "      <td>2</td>\n",
       "      <td>57</td>\n",
       "      <td>WEST 76 STREET</td>\n",
       "      <td>10023.0</td>\n",
       "      <td>991001.0</td>\n",
       "      <td>223260.0</td>\n",
       "      <td>40.779464</td>\n",
       "      <td>-73.975624</td>\n",
       "      <td>Manhattan</td>\n",
       "      <td>2010-12-02T10:44:16</td>\n",
       "      <td>Bait applied</td>\n",
       "      <td>2010-12-07T09:34:01</td>\n",
       "      <td>{'latitude': '40.779464247848', 'longitude': '...</td>\n",
       "    </tr>\n",
       "    <tr>\n",
       "      <th>2</th>\n",
       "      <td>BAIT</td>\n",
       "      <td>40616</td>\n",
       "      <td>PO174802</td>\n",
       "      <td>2</td>\n",
       "      <td>2028470001</td>\n",
       "      <td>2</td>\n",
       "      <td>2847</td>\n",
       "      <td>1</td>\n",
       "      <td>1</td>\n",
       "      <td>EAST MT EDEN AVENUE</td>\n",
       "      <td>10452.0</td>\n",
       "      <td>1007877.0</td>\n",
       "      <td>246889.0</td>\n",
       "      <td>40.844291</td>\n",
       "      <td>-73.914605</td>\n",
       "      <td>Bronx</td>\n",
       "      <td>2010-12-20T11:56:13</td>\n",
       "      <td>Bait applied</td>\n",
       "      <td>2010-12-28T15:16:07</td>\n",
       "      <td>{'latitude': '40.844290674523', 'longitude': '...</td>\n",
       "    </tr>\n",
       "    <tr>\n",
       "      <th>3</th>\n",
       "      <td>BAIT</td>\n",
       "      <td>41357</td>\n",
       "      <td>PO199209</td>\n",
       "      <td>4</td>\n",
       "      <td>1011290002</td>\n",
       "      <td>1</td>\n",
       "      <td>1129</td>\n",
       "      <td>2</td>\n",
       "      <td>57</td>\n",
       "      <td>WEST 76 STREET</td>\n",
       "      <td>10023.0</td>\n",
       "      <td>991001.0</td>\n",
       "      <td>223260.0</td>\n",
       "      <td>40.779464</td>\n",
       "      <td>-73.975624</td>\n",
       "      <td>Manhattan</td>\n",
       "      <td>2011-01-04T11:40:38</td>\n",
       "      <td>Bait applied</td>\n",
       "      <td>2011-01-06T15:04:17</td>\n",
       "      <td>{'latitude': '40.779464247848', 'longitude': '...</td>\n",
       "    </tr>\n",
       "    <tr>\n",
       "      <th>4</th>\n",
       "      <td>BAIT</td>\n",
       "      <td>41838</td>\n",
       "      <td>PO174802</td>\n",
       "      <td>3</td>\n",
       "      <td>2028470001</td>\n",
       "      <td>2</td>\n",
       "      <td>2847</td>\n",
       "      <td>1</td>\n",
       "      <td>1</td>\n",
       "      <td>EAST MT EDEN AVENUE</td>\n",
       "      <td>10452.0</td>\n",
       "      <td>1007877.0</td>\n",
       "      <td>246889.0</td>\n",
       "      <td>40.844291</td>\n",
       "      <td>-73.914605</td>\n",
       "      <td>Bronx</td>\n",
       "      <td>2011-01-10T10:08:18</td>\n",
       "      <td>Bait applied</td>\n",
       "      <td>2011-01-10T14:49:51</td>\n",
       "      <td>{'latitude': '40.844290674523', 'longitude': '...</td>\n",
       "    </tr>\n",
       "  </tbody>\n",
       "</table>\n",
       "</div>"
      ],
      "text/plain": [
       "  INSPECTION_TYPE  JOB_TICKET_OR_WORK_ORDER_ID    JOB_ID  JOB_PROGRESS  \\\n",
       "0            BAIT                        37453  PO199209             2   \n",
       "1            BAIT                        38432  PO199209             3   \n",
       "2            BAIT                        40616  PO174802             2   \n",
       "3            BAIT                        41357  PO199209             4   \n",
       "4            BAIT                        41838  PO174802             3   \n",
       "\n",
       "          BBL  BORO_CODE  BLOCK  LOT HOUSE_NUMBER           STREET_NAME  \\\n",
       "0  1011290002          1   1129    2           57        WEST 76 STREET   \n",
       "1  1011290002          1   1129    2           57        WEST 76 STREET   \n",
       "2  2028470001          2   2847    1            1   EAST MT EDEN AVENUE   \n",
       "3  1011290002          1   1129    2           57        WEST 76 STREET   \n",
       "4  2028470001          2   2847    1            1   EAST MT EDEN AVENUE   \n",
       "\n",
       "   ZIP_CODE    X_COORD   Y_COORD   LATITUDE  LONGITUDE    Borough  \\\n",
       "0   10023.0   991001.0  223260.0  40.779464 -73.975624  Manhattan   \n",
       "1   10023.0   991001.0  223260.0  40.779464 -73.975624  Manhattan   \n",
       "2   10452.0  1007877.0  246889.0  40.844291 -73.914605      Bronx   \n",
       "3   10023.0   991001.0  223260.0  40.779464 -73.975624  Manhattan   \n",
       "4   10452.0  1007877.0  246889.0  40.844291 -73.914605      Bronx   \n",
       "\n",
       "       INSPECTION_DATE        RESULT        APPROVED_DATE  \\\n",
       "0  2010-11-18T12:50:18  Bait applied  2010-11-19T08:43:21   \n",
       "1  2010-12-02T10:44:16  Bait applied  2010-12-07T09:34:01   \n",
       "2  2010-12-20T11:56:13  Bait applied  2010-12-28T15:16:07   \n",
       "3  2011-01-04T11:40:38  Bait applied  2011-01-06T15:04:17   \n",
       "4  2011-01-10T10:08:18  Bait applied  2011-01-10T14:49:51   \n",
       "\n",
       "                                            LOCATION  \n",
       "0  {'latitude': '40.779464247848', 'longitude': '...  \n",
       "1  {'latitude': '40.779464247848', 'longitude': '...  \n",
       "2  {'latitude': '40.844290674523', 'longitude': '...  \n",
       "3  {'latitude': '40.779464247848', 'longitude': '...  \n",
       "4  {'latitude': '40.844290674523', 'longitude': '...  "
      ]
     },
     "execution_count": 39,
     "metadata": {},
     "output_type": "execute_result"
    }
   ],
   "source": [
    "inspections.rename(columns = {\"BOROUGH\":\"Borough\"}, inplace = True)\n",
    "inspections.head()"
   ]
  },
  {
   "cell_type": "code",
   "execution_count": null,
   "metadata": {},
   "outputs": [],
   "source": []
  },
  {
   "cell_type": "code",
   "execution_count": 54,
   "metadata": {},
   "outputs": [
    {
     "ename": "SyntaxError",
     "evalue": "EOL while scanning string literal (<ipython-input-54-0cf35e6a0fc8>, line 1)",
     "output_type": "error",
     "traceback": [
      "\u001b[1;36m  File \u001b[1;32m\"<ipython-input-54-0cf35e6a0fc8>\"\u001b[1;36m, line \u001b[1;32m1\u001b[0m\n\u001b[1;33m    df = pd.merge(new_df, inspections [[\"Borough\",\"JOB_ID\"]], how='outer', sort=True, on=[\"Borough\u001b[0m\n\u001b[1;37m                                                                                                  ^\u001b[0m\n\u001b[1;31mSyntaxError\u001b[0m\u001b[1;31m:\u001b[0m EOL while scanning string literal\n"
     ]
    }
   ],
   "source": [
    "df = pd.merge(new_df, inspections [[\"Borough\",\"JOB_ID\"]], how='outer', sort=True, on=[\"Borough\"]\n",
    "df.head()"
   ]
  },
  {
   "cell_type": "code",
   "execution_count": 41,
   "metadata": {},
   "outputs": [
    {
     "data": {
      "text/html": [
       "<div>\n",
       "<style scoped>\n",
       "    .dataframe tbody tr th:only-of-type {\n",
       "        vertical-align: middle;\n",
       "    }\n",
       "\n",
       "    .dataframe tbody tr th {\n",
       "        vertical-align: top;\n",
       "    }\n",
       "\n",
       "    .dataframe thead th {\n",
       "        text-align: right;\n",
       "    }\n",
       "</style>\n",
       "<table border=\"1\" class=\"dataframe\">\n",
       "  <thead>\n",
       "    <tr style=\"text-align: right;\">\n",
       "      <th></th>\n",
       "      <th>Borough</th>\n",
       "      <th>Total Sightings</th>\n",
       "    </tr>\n",
       "  </thead>\n",
       "  <tbody>\n",
       "    <tr>\n",
       "      <th>0</th>\n",
       "      <td>Bronx</td>\n",
       "      <td>20706</td>\n",
       "    </tr>\n",
       "    <tr>\n",
       "      <th>1</th>\n",
       "      <td>Brooklyn</td>\n",
       "      <td>34673</td>\n",
       "    </tr>\n",
       "    <tr>\n",
       "      <th>2</th>\n",
       "      <td>Manhattan</td>\n",
       "      <td>26803</td>\n",
       "    </tr>\n",
       "    <tr>\n",
       "      <th>3</th>\n",
       "      <td>Queens</td>\n",
       "      <td>14811</td>\n",
       "    </tr>\n",
       "    <tr>\n",
       "      <th>4</th>\n",
       "      <td>Staten Island</td>\n",
       "      <td>4920</td>\n",
       "    </tr>\n",
       "    <tr>\n",
       "      <th>5</th>\n",
       "      <td>Unspecified</td>\n",
       "      <td>1</td>\n",
       "    </tr>\n",
       "  </tbody>\n",
       "</table>\n",
       "</div>"
      ],
      "text/plain": [
       "         Borough  Total Sightings\n",
       "0          Bronx            20706\n",
       "1       Brooklyn            34673\n",
       "2      Manhattan            26803\n",
       "3         Queens            14811\n",
       "4  Staten Island             4920\n",
       "5    Unspecified                1"
      ]
     },
     "execution_count": 41,
     "metadata": {},
     "output_type": "execute_result"
    }
   ],
   "source": [
    "#sns.catplot(x=\"Borough\", y=\"Incident Zip\", hue=\"Unique Key\", kind=\"swarm\", data= df);\n",
    "# sns.catplot(x=\"Borough\", y=\"Incident Zip\", kind=\"swarm\", data=df)\n",
    "df_2 = inspections[['Borough','JOB_ID']]\n",
    "# df_2= df.groupby(['Borough']).count()\n",
    "df_3= new_df.groupby(['Borough'],as_index=False).count().rename(columns={\"Unique Key\":\"Total Sightings\"})\n",
    "#df_4 = df_3.pivot(columns=\"JOB_ID\",index=\"Borough\",values=\"Total Sightings\").fillna(0.0)\n",
    "#sns.heatmap(gp,cbar=False)\n",
    "df_3"
   ]
  },
  {
   "cell_type": "code",
   "execution_count": 42,
   "metadata": {},
   "outputs": [],
   "source": [
    "# df_3.drop_duplicates(subset=[\"Borough\",\"Total Sightings\",\"Total Inspections\"], keep=False)"
   ]
  },
  {
   "cell_type": "code",
   "execution_count": 43,
   "metadata": {},
   "outputs": [],
   "source": [
    "df_4= df_2.groupby(['Borough'],as_index=False).count().rename(columns={\"JOB_ID\":\"Total Inspections\"})"
   ]
  },
  {
   "cell_type": "code",
   "execution_count": 44,
   "metadata": {},
   "outputs": [
    {
     "data": {
      "text/html": [
       "<div>\n",
       "<style scoped>\n",
       "    .dataframe tbody tr th:only-of-type {\n",
       "        vertical-align: middle;\n",
       "    }\n",
       "\n",
       "    .dataframe tbody tr th {\n",
       "        vertical-align: top;\n",
       "    }\n",
       "\n",
       "    .dataframe thead th {\n",
       "        text-align: right;\n",
       "    }\n",
       "</style>\n",
       "<table border=\"1\" class=\"dataframe\">\n",
       "  <thead>\n",
       "    <tr style=\"text-align: right;\">\n",
       "      <th></th>\n",
       "      <th>Borough</th>\n",
       "      <th>Total Inspections</th>\n",
       "    </tr>\n",
       "  </thead>\n",
       "  <tbody>\n",
       "    <tr>\n",
       "      <th>0</th>\n",
       "      <td>Bronx</td>\n",
       "      <td>509644</td>\n",
       "    </tr>\n",
       "    <tr>\n",
       "      <th>1</th>\n",
       "      <td>Brooklyn</td>\n",
       "      <td>409150</td>\n",
       "    </tr>\n",
       "    <tr>\n",
       "      <th>2</th>\n",
       "      <td>Manhattan</td>\n",
       "      <td>541489</td>\n",
       "    </tr>\n",
       "    <tr>\n",
       "      <th>3</th>\n",
       "      <td>Queens</td>\n",
       "      <td>162584</td>\n",
       "    </tr>\n",
       "    <tr>\n",
       "      <th>4</th>\n",
       "      <td>Staten Island</td>\n",
       "      <td>48317</td>\n",
       "    </tr>\n",
       "  </tbody>\n",
       "</table>\n",
       "</div>"
      ],
      "text/plain": [
       "         Borough  Total Inspections\n",
       "0          Bronx             509644\n",
       "1       Brooklyn             409150\n",
       "2      Manhattan             541489\n",
       "3         Queens             162584\n",
       "4  Staten Island              48317"
      ]
     },
     "execution_count": 44,
     "metadata": {},
     "output_type": "execute_result"
    }
   ],
   "source": [
    "df_4"
   ]
  },
  {
   "cell_type": "code",
   "execution_count": 45,
   "metadata": {},
   "outputs": [
    {
     "data": {
      "text/html": [
       "<div>\n",
       "<style scoped>\n",
       "    .dataframe tbody tr th:only-of-type {\n",
       "        vertical-align: middle;\n",
       "    }\n",
       "\n",
       "    .dataframe tbody tr th {\n",
       "        vertical-align: top;\n",
       "    }\n",
       "\n",
       "    .dataframe thead th {\n",
       "        text-align: right;\n",
       "    }\n",
       "</style>\n",
       "<table border=\"1\" class=\"dataframe\">\n",
       "  <thead>\n",
       "    <tr style=\"text-align: right;\">\n",
       "      <th></th>\n",
       "      <th>Borough</th>\n",
       "      <th>Total Inspections</th>\n",
       "      <th>Total Sightings</th>\n",
       "    </tr>\n",
       "  </thead>\n",
       "  <tbody>\n",
       "    <tr>\n",
       "      <th>0</th>\n",
       "      <td>Bronx</td>\n",
       "      <td>509644.0</td>\n",
       "      <td>20706</td>\n",
       "    </tr>\n",
       "    <tr>\n",
       "      <th>1</th>\n",
       "      <td>Brooklyn</td>\n",
       "      <td>409150.0</td>\n",
       "      <td>34673</td>\n",
       "    </tr>\n",
       "    <tr>\n",
       "      <th>2</th>\n",
       "      <td>Manhattan</td>\n",
       "      <td>541489.0</td>\n",
       "      <td>26803</td>\n",
       "    </tr>\n",
       "    <tr>\n",
       "      <th>3</th>\n",
       "      <td>Queens</td>\n",
       "      <td>162584.0</td>\n",
       "      <td>14811</td>\n",
       "    </tr>\n",
       "    <tr>\n",
       "      <th>4</th>\n",
       "      <td>Staten Island</td>\n",
       "      <td>48317.0</td>\n",
       "      <td>4920</td>\n",
       "    </tr>\n",
       "  </tbody>\n",
       "</table>\n",
       "</div>"
      ],
      "text/plain": [
       "         Borough  Total Inspections  Total Sightings\n",
       "0          Bronx           509644.0            20706\n",
       "1       Brooklyn           409150.0            34673\n",
       "2      Manhattan           541489.0            26803\n",
       "3         Queens           162584.0            14811\n",
       "4  Staten Island            48317.0             4920"
      ]
     },
     "execution_count": 45,
     "metadata": {},
     "output_type": "execute_result"
    }
   ],
   "source": [
    "df = pd.merge(df_4, df_3, how='outer', sort=True, on=[\"Borough\"])\n",
    "df.head()"
   ]
  },
  {
   "cell_type": "code",
   "execution_count": 52,
   "metadata": {},
   "outputs": [
    {
     "ename": "ValueError",
     "evalue": "Neither the `x` nor `y` variable appears to be numeric.",
     "output_type": "error",
     "traceback": [
      "\u001b[1;31m---------------------------------------------------------------------------\u001b[0m",
      "\u001b[1;31mValueError\u001b[0m                                Traceback (most recent call last)",
      "\u001b[1;32m<ipython-input-52-5b00205b3398>\u001b[0m in \u001b[0;36m<module>\u001b[1;34m\u001b[0m\n\u001b[1;32m----> 1\u001b[1;33m \u001b[0msns\u001b[0m\u001b[1;33m.\u001b[0m\u001b[0mcatplot\u001b[0m\u001b[1;33m(\u001b[0m\u001b[0mx\u001b[0m\u001b[1;33m=\u001b[0m\u001b[1;34m\"Borough\"\u001b[0m\u001b[1;33m,\u001b[0m \u001b[0my\u001b[0m\u001b[1;33m=\u001b[0m\u001b[1;33m(\u001b[0m\u001b[1;34m\"Total Inspections\"\u001b[0m\u001b[1;33m,\u001b[0m \u001b[1;34m\"Total Sightings\"\u001b[0m\u001b[1;33m)\u001b[0m\u001b[1;33m,\u001b[0m \u001b[0mkind\u001b[0m\u001b[1;33m=\u001b[0m\u001b[1;34m\"swarm\"\u001b[0m\u001b[1;33m,\u001b[0m \u001b[0mdata\u001b[0m\u001b[1;33m=\u001b[0m\u001b[0mdf\u001b[0m\u001b[1;33m)\u001b[0m\u001b[1;33m\u001b[0m\u001b[1;33m\u001b[0m\u001b[0m\n\u001b[0m",
      "\u001b[1;32m~\\Anaconda3\\lib\\site-packages\\seaborn\\categorical.py\u001b[0m in \u001b[0;36mcatplot\u001b[1;34m(x, y, hue, data, row, col, col_wrap, estimator, ci, n_boot, units, order, hue_order, row_order, col_order, kind, height, aspect, orient, color, palette, legend, legend_out, sharex, sharey, margin_titles, facet_kws, **kwargs)\u001b[0m\n\u001b[0;32m   3714\u001b[0m     \u001b[1;31m# facets to ensure representation of all data in the final plot\u001b[0m\u001b[1;33m\u001b[0m\u001b[1;33m\u001b[0m\u001b[1;33m\u001b[0m\u001b[0m\n\u001b[0;32m   3715\u001b[0m     \u001b[0mp\u001b[0m \u001b[1;33m=\u001b[0m \u001b[0m_CategoricalPlotter\u001b[0m\u001b[1;33m(\u001b[0m\u001b[1;33m)\u001b[0m\u001b[1;33m\u001b[0m\u001b[1;33m\u001b[0m\u001b[0m\n\u001b[1;32m-> 3716\u001b[1;33m     \u001b[0mp\u001b[0m\u001b[1;33m.\u001b[0m\u001b[0mestablish_variables\u001b[0m\u001b[1;33m(\u001b[0m\u001b[0mx_\u001b[0m\u001b[1;33m,\u001b[0m \u001b[0my_\u001b[0m\u001b[1;33m,\u001b[0m \u001b[0mhue\u001b[0m\u001b[1;33m,\u001b[0m \u001b[0mdata\u001b[0m\u001b[1;33m,\u001b[0m \u001b[0morient\u001b[0m\u001b[1;33m,\u001b[0m \u001b[0morder\u001b[0m\u001b[1;33m,\u001b[0m \u001b[0mhue_order\u001b[0m\u001b[1;33m)\u001b[0m\u001b[1;33m\u001b[0m\u001b[1;33m\u001b[0m\u001b[0m\n\u001b[0m\u001b[0;32m   3717\u001b[0m     \u001b[0morder\u001b[0m \u001b[1;33m=\u001b[0m \u001b[0mp\u001b[0m\u001b[1;33m.\u001b[0m\u001b[0mgroup_names\u001b[0m\u001b[1;33m\u001b[0m\u001b[1;33m\u001b[0m\u001b[0m\n\u001b[0;32m   3718\u001b[0m     \u001b[0mhue_order\u001b[0m \u001b[1;33m=\u001b[0m \u001b[0mp\u001b[0m\u001b[1;33m.\u001b[0m\u001b[0mhue_names\u001b[0m\u001b[1;33m\u001b[0m\u001b[1;33m\u001b[0m\u001b[0m\n",
      "\u001b[1;32m~\\Anaconda3\\lib\\site-packages\\seaborn\\categorical.py\u001b[0m in \u001b[0;36mestablish_variables\u001b[1;34m(self, x, y, hue, data, orient, order, hue_order, units)\u001b[0m\n\u001b[0;32m    156\u001b[0m \u001b[1;33m\u001b[0m\u001b[0m\n\u001b[0;32m    157\u001b[0m             \u001b[1;31m# Figure out the plotting orientation\u001b[0m\u001b[1;33m\u001b[0m\u001b[1;33m\u001b[0m\u001b[1;33m\u001b[0m\u001b[0m\n\u001b[1;32m--> 158\u001b[1;33m             \u001b[0morient\u001b[0m \u001b[1;33m=\u001b[0m \u001b[0mself\u001b[0m\u001b[1;33m.\u001b[0m\u001b[0minfer_orient\u001b[0m\u001b[1;33m(\u001b[0m\u001b[0mx\u001b[0m\u001b[1;33m,\u001b[0m \u001b[0my\u001b[0m\u001b[1;33m,\u001b[0m \u001b[0morient\u001b[0m\u001b[1;33m)\u001b[0m\u001b[1;33m\u001b[0m\u001b[1;33m\u001b[0m\u001b[0m\n\u001b[0m\u001b[0;32m    159\u001b[0m \u001b[1;33m\u001b[0m\u001b[0m\n\u001b[0;32m    160\u001b[0m             \u001b[1;31m# Option 2a:\u001b[0m\u001b[1;33m\u001b[0m\u001b[1;33m\u001b[0m\u001b[1;33m\u001b[0m\u001b[0m\n",
      "\u001b[1;32m~\\Anaconda3\\lib\\site-packages\\seaborn\\categorical.py\u001b[0m in \u001b[0;36minfer_orient\u001b[1;34m(self, x, y, orient)\u001b[0m\n\u001b[0;32m    359\u001b[0m         \u001b[1;32melif\u001b[0m \u001b[0mis_not_numeric\u001b[0m\u001b[1;33m(\u001b[0m\u001b[0my\u001b[0m\u001b[1;33m)\u001b[0m\u001b[1;33m:\u001b[0m\u001b[1;33m\u001b[0m\u001b[1;33m\u001b[0m\u001b[0m\n\u001b[0;32m    360\u001b[0m             \u001b[1;32mif\u001b[0m \u001b[0mis_not_numeric\u001b[0m\u001b[1;33m(\u001b[0m\u001b[0mx\u001b[0m\u001b[1;33m)\u001b[0m\u001b[1;33m:\u001b[0m\u001b[1;33m\u001b[0m\u001b[1;33m\u001b[0m\u001b[0m\n\u001b[1;32m--> 361\u001b[1;33m                 \u001b[1;32mraise\u001b[0m \u001b[0mValueError\u001b[0m\u001b[1;33m(\u001b[0m\u001b[0mno_numeric\u001b[0m\u001b[1;33m)\u001b[0m\u001b[1;33m\u001b[0m\u001b[1;33m\u001b[0m\u001b[0m\n\u001b[0m\u001b[0;32m    362\u001b[0m             \u001b[1;32melse\u001b[0m\u001b[1;33m:\u001b[0m\u001b[1;33m\u001b[0m\u001b[1;33m\u001b[0m\u001b[0m\n\u001b[0;32m    363\u001b[0m                 \u001b[1;32mreturn\u001b[0m \u001b[1;34m\"h\"\u001b[0m\u001b[1;33m\u001b[0m\u001b[1;33m\u001b[0m\u001b[0m\n",
      "\u001b[1;31mValueError\u001b[0m: Neither the `x` nor `y` variable appears to be numeric."
     ]
    }
   ],
   "source": [
    "sns.catplot(x=\"Borough\", y=(\"Total Inspections\", \"Total Sightings\"), kind=\"swarm\", data=df)"
   ]
  },
  {
   "cell_type": "code",
   "execution_count": 53,
   "metadata": {},
   "outputs": [
    {
     "data": {
      "text/plain": [
       "<seaborn.axisgrid.FacetGrid at 0x20581241278>"
      ]
     },
     "execution_count": 53,
     "metadata": {},
     "output_type": "execute_result"
    },
    {
     "data": {
      "image/png": "[encoded data removed]",
      "text/plain": [
       "<Figure size 360x360 with 1 Axes>"
      ]
     },
     "metadata": {
      "needs_background": "light"
     },
     "output_type": "display_data"
    },
    {
     "data": {
      "image/png": "[encoded data removed]",
      "text/plain": [
       "<Figure size 360x360 with 1 Axes>"
      ]
     },
     "metadata": {
      "needs_background": "light"
     },
     "output_type": "display_data"
    }
   ],
   "source": [
    "sns.catplot(x=\"Borough\", y=\"Total Sightings\", kind=\"swarm\", data=df)\n",
    "sns.catplot(x=\"Borough\", y=\"Total Inspections\", kind=\"swarm\", data=df)"
   ]
  },
  {
   "cell_type": "code",
   "execution_count": 48,
   "metadata": {},
   "outputs": [
    {
     "data": {
      "image/png": "[encoded data removed]",
      "text/plain": [
       "<Figure size 576x252 with 2 Axes>"
      ]
     },
     "metadata": {
      "needs_background": "light"
     },
     "output_type": "display_data"
    }
   ],
   "source": [
    "# plt.rcParams['font.size']=11\n",
    "# plt.rcParams['figure.figsize']=[8.0, 3.5]\n",
    "# fig, axes=plt.subplots(nrows=1, ncols=2)\n",
    "# df.plot(kind='scatter', x='Total Sightings', y='Total Inspections', ax=axes[0], color='Blue');\n",
    "# plt.tight_layout()\n",
    "\n"
   ]
  },
  {
   "cell_type": "code",
   "execution_count": null,
   "metadata": {},
   "outputs": [],
   "source": []
  }
 ],
 "metadata": {
  "kernelspec": {
   "display_name": "Python 3",
   "language": "python",
   "name": "python3"
  },
  "language_info": {
   "codemirror_mode": {
    "name": "ipython",
    "version": 3
   },
   "file_extension": ".py",
   "mimetype": "text/x-python",
   "name": "python",
   "nbconvert_exporter": "python",
   "pygments_lexer": "ipython3",
   "version": "3.7.1"
  }
 },
 "nbformat": 4,
 "nbformat_minor": 2
}
